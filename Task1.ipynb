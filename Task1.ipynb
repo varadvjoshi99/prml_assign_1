{
 "cells": [
  {
   "cell_type": "markdown",
   "metadata": {},
   "source": [
    "CS5691 - PRML - Assignment Task1"
   ]
  },
  {
   "cell_type": "markdown",
   "metadata": {},
   "source": [
    "Task 1 :-\n",
    "\n",
    "Perform polynomial regression on the given datasets \n",
    "\n",
    "using training datasets of sizes 10 and 200 \n",
    "and with different model complexities (2,3,6 and 9)\n",
    "\n",
    "Repeat the same with Quadratic regularization with different values of Lambda.\n",
    "\n",
    "PLOT AND COMPARE ALL THE RESULTS."
   ]
  },
  {
   "cell_type": "code",
   "execution_count": null,
   "metadata": {},
   "outputs": [],
   "source": [
    "import pandas as pd \n",
    "import numpy as np\n",
    "import matplotlib.pyplot as plt"
   ]
  },
  {
   "cell_type": "code",
   "execution_count": 65,
   "metadata": {
    "scrolled": false
   },
   "outputs": [
    {
     "data": {
      "text/html": [
       "<div>\n",
       "<style scoped>\n",
       "    .dataframe tbody tr th:only-of-type {\n",
       "        vertical-align: middle;\n",
       "    }\n",
       "\n",
       "    .dataframe tbody tr th {\n",
       "        vertical-align: top;\n",
       "    }\n",
       "\n",
       "    .dataframe thead th {\n",
       "        text-align: right;\n",
       "    }\n",
       "</style>\n",
       "<table border=\"1\" class=\"dataframe\">\n",
       "  <thead>\n",
       "    <tr style=\"text-align: right;\">\n",
       "      <th></th>\n",
       "      <th>Unnamed: 0</th>\n",
       "      <th>x</th>\n",
       "      <th>y</th>\n",
       "    </tr>\n",
       "  </thead>\n",
       "  <tbody>\n",
       "    <tr>\n",
       "      <td>0</td>\n",
       "      <td>0</td>\n",
       "      <td>-0.513087</td>\n",
       "      <td>1.471849</td>\n",
       "    </tr>\n",
       "    <tr>\n",
       "      <td>1</td>\n",
       "      <td>1</td>\n",
       "      <td>1.692695</td>\n",
       "      <td>7.142129</td>\n",
       "    </tr>\n",
       "    <tr>\n",
       "      <td>2</td>\n",
       "      <td>2</td>\n",
       "      <td>-0.745941</td>\n",
       "      <td>2.075071</td>\n",
       "    </tr>\n",
       "    <tr>\n",
       "      <td>3</td>\n",
       "      <td>3</td>\n",
       "      <td>0.906749</td>\n",
       "      <td>0.656626</td>\n",
       "    </tr>\n",
       "    <tr>\n",
       "      <td>4</td>\n",
       "      <td>4</td>\n",
       "      <td>-1.684596</td>\n",
       "      <td>4.188823</td>\n",
       "    </tr>\n",
       "  </tbody>\n",
       "</table>\n",
       "</div>"
      ],
      "text/plain": [
       "   Unnamed: 0         x         y\n",
       "0           0 -0.513087  1.471849\n",
       "1           1  1.692695  7.142129\n",
       "2           2 -0.745941  2.075071\n",
       "3           3  0.906749  0.656626\n",
       "4           4 -1.684596  4.188823"
      ]
     },
     "execution_count": 65,
     "metadata": {},
     "output_type": "execute_result"
    }
   ],
   "source": [
    "df = pd.read_csv('function0.csv')\n",
    "df.head()"
   ]
  },
  {
   "cell_type": "code",
   "execution_count": 83,
   "metadata": {},
   "outputs": [
    {
     "data": {
      "text/plain": [
       "<matplotlib.collections.PathCollection at 0x1fcaecf0948>"
      ]
     },
     "execution_count": 83,
     "metadata": {},
     "output_type": "execute_result"
    },
    {
     "data": {
      "image/png": "[encoded data removed]",
      "text/plain": [
       "<Figure size 432x288 with 1 Axes>"
      ]
     },
     "metadata": {
      "needs_background": "light"
     },
     "output_type": "display_data"
    }
   ],
   "source": [
    "x = np.array(df['x'])\n",
    "y = np.array(df['y'])\n",
    "# print(x)\n",
    "plt.scatter(x,y)"
   ]
  },
  {
   "cell_type": "code",
   "execution_count": 84,
   "metadata": {},
   "outputs": [],
   "source": [
    "# para = {}\n",
    "# for i in range(2,10):\n",
    "#     para[f'x_{i}'] = x**i\n",
    "    \n",
    "# print(parameters['x_5'])\n",
    "\n",
    "def get_parameters(x,deg):\n",
    "    para = {}\n",
    "    for i in range(1,deg+1):\n",
    "        para[f'x_{i}'] = x**i\n",
    "        \n",
    "    return para\n",
    "\n",
    "# para = get_parameters(x,deg)"
   ]
  },
  {
   "cell_type": "code",
   "execution_count": 85,
   "metadata": {},
   "outputs": [],
   "source": [
    "def design_mat(para,deg,x):\n",
    "    _ = 2\n",
    "    d = np.ones(len(x))\n",
    "    d = np.vstack((d,x))\n",
    "    while _ <= deg:\n",
    "        d = np.vstack((d,para[f'x_{_}']))\n",
    "        _ += 1\n",
    "\n",
    "    return d.T"
   ]
  },
  {
   "cell_type": "code",
   "execution_count": 86,
   "metadata": {},
   "outputs": [],
   "source": [
    "def weight_mat(feature,y):\n",
    "  return np.dot(np.linalg.pinv(feature),y)"
   ]
  },
  {
   "cell_type": "code",
   "execution_count": 87,
   "metadata": {},
   "outputs": [
    {
     "name": "stdout",
     "output_type": "stream",
     "text": [
      "[[ 1.         -0.51308693  0.2632582  -0.13507434]\n",
      " [ 1.          1.69269542  2.86521779  4.84994102]\n",
      " [ 1.         -0.74594071  0.55642754 -0.41506195]\n",
      " ...\n",
      " [ 1.         -0.85110808  0.72438497 -0.6165299 ]\n",
      " [ 1.          1.24147598  1.54126262  1.91344053]\n",
      " [ 1.          0.53813916  0.28959376  0.15584174]]\n"
     ]
    }
   ],
   "source": [
    "deg = 3\n",
    "para = get_parameters(x,deg)\n",
    "deg_3 = design_mat(para,deg,x)\n",
    "print(deg_3)\n"
   ]
  },
  {
   "cell_type": "code",
   "execution_count": 88,
   "metadata": {},
   "outputs": [
    {
     "name": "stdout",
     "output_type": "stream",
     "text": [
      "[ 0.00327312 -2.00088282  1.99904886  1.00094202]\n"
     ]
    }
   ],
   "source": [
    "w_star = weight_mat(deg_3,y)\n",
    "print(w_star)"
   ]
  },
  {
   "cell_type": "code",
   "execution_count": 89,
   "metadata": {},
   "outputs": [
    {
     "data": {
      "text/plain": [
       "<matplotlib.collections.PathCollection at 0x1fcaed64e88>"
      ]
     },
     "execution_count": 89,
     "metadata": {},
     "output_type": "execute_result"
    },
    {
     "data": {
      "image/png": "[encoded data removed]",
      "text/plain": [
       "<Figure size 432x288 with 1 Axes>"
      ]
     },
     "metadata": {
      "needs_background": "light"
     },
     "output_type": "display_data"
    }
   ],
   "source": [
    "w_star.shape = (4,1)\n",
    "\n",
    "plt.scatter(x,np.dot(deg_3,w_star))"
   ]
  },
  {
   "cell_type": "code",
   "execution_count": 90,
   "metadata": {},
   "outputs": [],
   "source": [
    "# Now using only 10 samples from the dataset \n",
    "# and comparing for polynomial of degrees 2,3,6 and 9"
   ]
  },
  {
   "cell_type": "code",
   "execution_count": 74,
   "metadata": {},
   "outputs": [],
   "source": [
    "sample_10 = df.sample(n=10,random_state = 1)"
   ]
  },
  {
   "cell_type": "code",
   "execution_count": 112,
   "metadata": {},
   "outputs": [
    {
     "name": "stdout",
     "output_type": "stream",
     "text": [
      "[ 0.0778674   1.72469454 -1.05215418  1.31653348  1.90516941 -1.50621578\n",
      "  1.96966147 -1.53178674  1.17072872  0.15235362]\n",
      "[-0.07468188  7.56225715  3.24034942  3.14517134 10.43392189  4.09594567\n",
      " 11.51244444  3.99801816  2.00766515 -0.29609786]\n"
     ]
    },
    {
     "data": {
      "text/plain": [
       "<matplotlib.collections.PathCollection at 0x1fcb012cc88>"
      ]
     },
     "execution_count": 112,
     "metadata": {},
     "output_type": "execute_result"
    },
    {
     "data": {
      "image/png": "[encoded data removed]",
      "text/plain": [
       "<Figure size 432x288 with 1 Axes>"
      ]
     },
     "metadata": {
      "needs_background": "light"
     },
     "output_type": "display_data"
    }
   ],
   "source": [
    "x = np.array(sample_10['x'])\n",
    "print(x)\n",
    "print(y)\n",
    "y = np.array(sample_10['y'])\n",
    "plt.scatter(x,y)"
   ]
  },
  {
   "cell_type": "code",
   "execution_count": 113,
   "metadata": {},
   "outputs": [
    {
     "name": "stdout",
     "output_type": "stream",
     "text": [
      "[[ 1.          0.0778674   0.00606333]\n",
      " [ 1.          1.72469454  2.97457126]\n",
      " [ 1.         -1.05215418  1.10702841]\n",
      " [ 1.          1.31653348  1.73326039]\n",
      " [ 1.          1.90516941  3.62967047]\n",
      " [ 1.         -1.50621578  2.26868597]\n",
      " [ 1.          1.96966147  3.87956631]\n",
      " [ 1.         -1.53178674  2.34637062]\n",
      " [ 1.          1.17072872  1.37060573]\n",
      " [ 1.          0.15235362  0.02321162]]\n"
     ]
    }
   ],
   "source": [
    "deg = 2\n",
    "para = get_parameters(x,deg)\n",
    "d = design_mat(para,deg,x)\n",
    "w_star = weight_mat(d,y)\n",
    "print(d)"
   ]
  },
  {
   "cell_type": "code",
   "execution_count": 114,
   "metadata": {},
   "outputs": [
    {
     "name": "stdout",
     "output_type": "stream",
     "text": [
      "[-0.81095099  0.43627306  2.68319718]\n"
     ]
    }
   ],
   "source": [
    "print(w_star)"
   ]
  },
  {
   "cell_type": "code",
   "execution_count": 115,
   "metadata": {},
   "outputs": [
    {
     "name": "stdout",
     "output_type": "stream",
     "text": [
      "[ 0.0778674   1.72469454 -1.05215418  1.31653348  1.90516941 -1.50621578\n",
      "  1.96966147 -1.53178674  1.17072872  0.15235362]\n",
      "[-0.76071043  7.92284798  1.70039801  4.41409648  9.75934466  4.61925944\n",
      " 10.45800062  4.81654675  3.37741183 -0.68220185]\n"
     ]
    },
    {
     "data": {
      "image/png": "[encoded data removed]",
      "text/plain": [
       "<Figure size 432x288 with 1 Axes>"
      ]
     },
     "metadata": {
      "needs_background": "light"
     },
     "output_type": "display_data"
    }
   ],
   "source": [
    "w_star.shape = (3,1)\n",
    "print(x)\n",
    "y_hat = np.dot(d,w_star)\n",
    "y_hat.shape = (10,)\n",
    "\n",
    "\n",
    "plt.scatter(x,y_hat)\n",
    "plt.plot(x,y_hat)\n",
    "print(y_hat)"
   ]
  },
  {
   "cell_type": "code",
   "execution_count": null,
   "metadata": {},
   "outputs": [],
   "source": []
  },
  {
   "cell_type": "code",
   "execution_count": null,
   "metadata": {},
   "outputs": [],
   "source": []
  }
 ],
 "metadata": {
  "kernelspec": {
   "display_name": "Python 3",
   "language": "python",
   "name": "python3"
  },
  "language_info": {
   "codemirror_mode": {
    "name": "ipython",
    "version": 3
   },
   "file_extension": ".py",
   "mimetype": "text/x-python",
   "name": "python",
   "nbconvert_exporter": "python",
   "pygments_lexer": "ipython3",
   "version": "3.7.4"
  }
 },
 "nbformat": 4,
 "nbformat_minor": 2
}
